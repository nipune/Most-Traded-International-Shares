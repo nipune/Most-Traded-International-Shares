{
 "cells": [
  {
   "cell_type": "code",
   "execution_count": 1,
   "metadata": {},
   "outputs": [],
   "source": [
    "# Initial imports\n",
    "import os # Miscellaneous operating system interfaces (os.getenv)\n",
    "import requests # requests.get\n",
    "import pandas as pd\n",
    "from dotenv import load_dotenv #Reads the key-value pair from .env file and adds them to environment variable.\n",
    "from pathlib import Path\n",
    "import json # lightweight data interchange format \n",
    "import matplotlib.pyplot as plt\n",
    "\n",
    "%matplotlib inline\n",
    "import FundamentalAnalysis as fa\n",
    "import alpaca_trade_api as tradeapi"
   ]
  },
  {
   "cell_type": "code",
   "execution_count": 2,
   "metadata": {},
   "outputs": [],
   "source": [
    "# Load .env enviroment variables\n",
    "load_dotenv()\n",
    "from pathlib import Path\n",
    "env_path = Path('C:/Users/Nipune/python-homework/.env')"
   ]
  },
  {
   "cell_type": "code",
   "execution_count": 3,
   "metadata": {},
   "outputs": [],
   "source": [
    "# Set FA API key\n",
    "api_key = os.getenv(\"FA\")"
   ]
  },
  {
   "cell_type": "code",
   "execution_count": 4,
   "metadata": {},
   "outputs": [],
   "source": [
    "# Set Alpaca API key and secret\n",
    "alpaca_api_key = os.getenv(\"ALPACA_API_KEY\")\n",
    "alpaca_secret_key = os.getenv(\"ALPACA_SECRET_KEY\")\n",
    "\n",
    "# Create the Alpaca API object\n",
    "alpaca = tradeapi.REST(\n",
    "    alpaca_api_key,\n",
    "    alpaca_secret_key,\n",
    "    api_version=\"v2\")"
   ]
  },
  {
   "cell_type": "code",
   "execution_count": 5,
   "metadata": {},
   "outputs": [],
   "source": [
    "# Set the file path\n",
    "sp_data = Path(\"Resources/sp.csv\")\n",
    "sp_symbols_data = Path(\"Resources/sp500_symbols.csv\")\n",
    "sp_ticker_data = Path(\"Resources/sp500_ticker.csv\")\n"
   ]
  },
  {
   "cell_type": "code",
   "execution_count": 6,
   "metadata": {},
   "outputs": [],
   "source": [
    "# Read whale returns csv\n",
    "# Read the CSVs and set the `date` column as a datetime index to the DataFrame\n",
    "sp_df = pd.read_csv(sp_data, index_col=\"Date\", infer_datetime_format=True, parse_dates=True)\n",
    "sp_df.sort_index(ascending = True, inplace = True)\n",
    "\n",
    "sp_symbols = pd.read_csv(sp_symbols_data, index_col=\"Symbol\", infer_datetime_format=True, parse_dates=True)\n",
    "sp_symbols.sort_index(ascending = True, inplace = True)\n",
    "\n",
    "sp_ticker = pd.read_csv(sp_ticker_data, index_col=\"Symbol\", infer_datetime_format=True, parse_dates=True)\n",
    "sp_ticker.sort_index(ascending = True, inplace = True)"
   ]
  },
  {
   "cell_type": "code",
   "execution_count": 7,
   "metadata": {},
   "outputs": [],
   "source": [
    "# Drop nulls\n",
    "sp_df = sp_df.dropna()"
   ]
  },
  {
   "cell_type": "code",
   "execution_count": 8,
   "metadata": {},
   "outputs": [],
   "source": [
    "# master_list = []\n",
    "# for i in target_items:\n",
    "#         data_dict = {}\n",
    "#         data_dict['marketplace'] = 'ebay'\n",
    "#         data_dict['date_retrieved'] = date.today()\n",
    "#         data_dict['link'] = i.get('a',{'href'})\n",
    "#         master_list.append(data_dict)\n"
   ]
  },
  {
   "cell_type": "code",
   "execution_count": 9,
   "metadata": {},
   "outputs": [],
   "source": [
    "# Format current date as ISO format\n",
    "today = pd.Timestamp(\"2020-07-31\", tz=\"America/New_York\").isoformat() \n",
    "start = pd.Timestamp(\"2019-01-01\", tz=\"America/New_York\").isoformat() \n",
    "end = pd.Timestamp(\"2020-12-31\", tz=\"America/New_York\").isoformat() # last year\n",
    "\n",
    "# Set the tickers\n",
    "tickers = [\"TSLA\", \"NIO\", \"AAPL\", \"PFE\", \"MSFT\", \"MRNA\", \"ZM\", \"AMZN\", \"NNDM\", \"CRM\", \"NVDA\"]\n",
    "dict = {'stock':'', 'segment':''}  \n",
    "marketcaps = {}\n",
    "segments = {}\n",
    "for stock in tickers:\n",
    "    profile = fa.profile(stock, api_key) \n",
    "    try: \n",
    "        marketcaps[stock] = int(profile.iloc[22])\n",
    "        segment = str(profile.iloc[26])[5:]\n",
    "        segments[stock] = segment[:-28]\n",
    "    except: continue\n",
    "    \n",
    "\n",
    "## Create the shares DataFrame with `tickers` as index\n",
    "#df_shares = pd.DataFrame(shares_data, index=tickers)\n",
    "\n",
    "# Set timeframe to '1D' for Alpaca API\n",
    "timeframe = \"1D\"\n",
    "\n",
    "# Get current closing prices for SPY and AGG\n",
    "df_portfolio = alpaca.get_barset(\n",
    "    tickers,\n",
    "    timeframe,\n",
    "    start = today,\n",
    "    end = today\n",
    ").df"
   ]
  },
  {
   "cell_type": "code",
   "execution_count": 10,
   "metadata": {},
   "outputs": [],
   "source": [
    "# # Format current date as ISO format\n",
    "# today = pd.Timestamp(\"2020-07-31\", tz=\"America/New_York\").isoformat() \n",
    "# start = pd.Timestamp(\"2019-01-01\", tz=\"America/New_York\").isoformat() #1/1/2019?\n",
    "# end = pd.Timestamp(\"2020-12-31\", tz=\"America/New_York\").isoformat() #31/12/2019?\n",
    "\n",
    "# # Set the tickers\n",
    "# tickers = [\"TSLA\", \"NIO\", \"AAPL\", \"PFE\", \"MSFT\", \"MRNA\", \"ZM\", \"AMZN\", \"NNDM\", \"CRM\", \"NVDA\"]\n",
    "# dict = {'stock':'', 'segment':''}  \n",
    "# marketcaps = {}\n",
    "# segments = {}\n",
    "# for stock in tickers:\n",
    "#     profile = fa.profile(stock, api_key) \n",
    "#     try: \n",
    "#         marketcaps[stock] = int(profile.iloc[22])\n",
    "#         segment = str(profile.iloc[26])[5:]\n",
    "#         segments[stock] = segment[:-28]\n",
    "#     except: continue\n",
    "    \n",
    "\n",
    "# ## Create the shares DataFrame with `tickers` as index\n",
    "# #df_shares = pd.DataFrame(shares_data, index=tickers)\n",
    "\n",
    "# # Set timeframe to '1D' for Alpaca API\n",
    "# timeframe = \"1D\"\n",
    "\n",
    "# # Get current closing prices for SPY and AGG\n",
    "# df_portfolio = alpaca.get_barset(\n",
    "#     tickers,\n",
    "#     timeframe,\n",
    "#     start = today,\n",
    "#     end = today\n",
    "# ).df"
   ]
  },
  {
   "cell_type": "code",
   "execution_count": 11,
   "metadata": {},
   "outputs": [],
   "source": [
    "marketcaps_df = pd.DataFrame(marketcaps.items(), columns=['stock', 'marketcap'])\n",
    "segments_df = pd.DataFrame(segments.items(), columns=['stock', 'marketcap']).rename(columns={\n",
    "    \"marketcap\":\"sector\"\n",
    "})"
   ]
  },
  {
   "cell_type": "code",
   "execution_count": 12,
   "metadata": {},
   "outputs": [
    {
     "data": {
      "text/html": [
       "<div>\n",
       "<style scoped>\n",
       "    .dataframe tbody tr th:only-of-type {\n",
       "        vertical-align: middle;\n",
       "    }\n",
       "\n",
       "    .dataframe tbody tr th {\n",
       "        vertical-align: top;\n",
       "    }\n",
       "\n",
       "    .dataframe thead th {\n",
       "        text-align: right;\n",
       "    }\n",
       "</style>\n",
       "<table border=\"1\" class=\"dataframe\">\n",
       "  <thead>\n",
       "    <tr style=\"text-align: right;\">\n",
       "      <th></th>\n",
       "      <th>stock</th>\n",
       "      <th>marketcap</th>\n",
       "    </tr>\n",
       "  </thead>\n",
       "  <tbody>\n",
       "    <tr>\n",
       "      <th>0</th>\n",
       "      <td>TSLA</td>\n",
       "      <td>16506815000</td>\n",
       "    </tr>\n",
       "    <tr>\n",
       "      <th>1</th>\n",
       "      <td>NIO</td>\n",
       "      <td>862169083306</td>\n",
       "    </tr>\n",
       "    <tr>\n",
       "      <th>2</th>\n",
       "      <td>AAPL</td>\n",
       "      <td>14089961010</td>\n",
       "    </tr>\n",
       "    <tr>\n",
       "      <th>3</th>\n",
       "      <td>PFE</td>\n",
       "      <td>12125732323</td>\n",
       "    </tr>\n",
       "    <tr>\n",
       "      <th>4</th>\n",
       "      <td>MSFT</td>\n",
       "      <td>14258828080</td>\n",
       "    </tr>\n",
       "    <tr>\n",
       "      <th>5</th>\n",
       "      <td>MRNA</td>\n",
       "      <td>16177146500</td>\n",
       "    </tr>\n",
       "    <tr>\n",
       "      <th>6</th>\n",
       "      <td>ZM</td>\n",
       "      <td>18887999666</td>\n",
       "    </tr>\n",
       "    <tr>\n",
       "      <th>7</th>\n",
       "      <td>AMZN</td>\n",
       "      <td>12062661000</td>\n",
       "    </tr>\n",
       "    <tr>\n",
       "      <th>8</th>\n",
       "      <td>CRM</td>\n",
       "      <td>14159017000</td>\n",
       "    </tr>\n",
       "    <tr>\n",
       "      <th>9</th>\n",
       "      <td>NVDA</td>\n",
       "      <td>14084862000</td>\n",
       "    </tr>\n",
       "  </tbody>\n",
       "</table>\n",
       "</div>"
      ],
      "text/plain": [
       "  stock     marketcap\n",
       "0  TSLA   16506815000\n",
       "1   NIO  862169083306\n",
       "2  AAPL   14089961010\n",
       "3   PFE   12125732323\n",
       "4  MSFT   14258828080\n",
       "5  MRNA   16177146500\n",
       "6    ZM   18887999666\n",
       "7  AMZN   12062661000\n",
       "8   CRM   14159017000\n",
       "9  NVDA   14084862000"
      ]
     },
     "execution_count": 12,
     "metadata": {},
     "output_type": "execute_result"
    }
   ],
   "source": [
    "marketcaps_df.head(11)"
   ]
  },
  {
   "cell_type": "code",
   "execution_count": 19,
   "metadata": {},
   "outputs": [
    {
     "data": {
      "text/html": [
       "<div>\n",
       "<style scoped>\n",
       "    .dataframe tbody tr th:only-of-type {\n",
       "        vertical-align: middle;\n",
       "    }\n",
       "\n",
       "    .dataframe tbody tr th {\n",
       "        vertical-align: top;\n",
       "    }\n",
       "\n",
       "    .dataframe thead th {\n",
       "        text-align: right;\n",
       "    }\n",
       "</style>\n",
       "<table border=\"1\" class=\"dataframe\">\n",
       "  <thead>\n",
       "    <tr style=\"text-align: right;\">\n",
       "      <th></th>\n",
       "      <th>level_0</th>\n",
       "      <th>index</th>\n",
       "      <th>stock</th>\n",
       "      <th>sector</th>\n",
       "    </tr>\n",
       "  </thead>\n",
       "  <tbody>\n",
       "    <tr>\n",
       "      <th>0</th>\n",
       "      <td>0</td>\n",
       "      <td>0</td>\n",
       "      <td>TSLA</td>\n",
       "      <td>94</td>\n",
       "    </tr>\n",
       "    <tr>\n",
       "      <th>1</th>\n",
       "      <td>1</td>\n",
       "      <td>1</td>\n",
       "      <td>NIO</td>\n",
       "      <td>201</td>\n",
       "    </tr>\n",
       "    <tr>\n",
       "      <th>2</th>\n",
       "      <td>2</td>\n",
       "      <td>2</td>\n",
       "      <td>AAPL</td>\n",
       "      <td>95</td>\n",
       "    </tr>\n",
       "    <tr>\n",
       "      <th>3</th>\n",
       "      <td>3</td>\n",
       "      <td>3</td>\n",
       "      <td>PFE</td>\n",
       "      <td>10</td>\n",
       "    </tr>\n",
       "    <tr>\n",
       "      <th>4</th>\n",
       "      <td>4</td>\n",
       "      <td>4</td>\n",
       "      <td>MSFT</td>\n",
       "      <td>98</td>\n",
       "    </tr>\n",
       "    <tr>\n",
       "      <th>5</th>\n",
       "      <td>5</td>\n",
       "      <td>5</td>\n",
       "      <td>MRNA</td>\n",
       "      <td>02</td>\n",
       "    </tr>\n",
       "    <tr>\n",
       "      <th>6</th>\n",
       "      <td>6</td>\n",
       "      <td>6</td>\n",
       "      <td>ZM</td>\n",
       "      <td>95</td>\n",
       "    </tr>\n",
       "    <tr>\n",
       "      <th>7</th>\n",
       "      <td>7</td>\n",
       "      <td>7</td>\n",
       "      <td>AMZN</td>\n",
       "      <td>98109-5</td>\n",
       "    </tr>\n",
       "    <tr>\n",
       "      <th>8</th>\n",
       "      <td>8</td>\n",
       "      <td>8</td>\n",
       "      <td>CRM</td>\n",
       "      <td>N</td>\n",
       "    </tr>\n",
       "    <tr>\n",
       "      <th>9</th>\n",
       "      <td>9</td>\n",
       "      <td>9</td>\n",
       "      <td>NVDA</td>\n",
       "      <td>95</td>\n",
       "    </tr>\n",
       "  </tbody>\n",
       "</table>\n",
       "</div>"
      ],
      "text/plain": [
       "   level_0  index stock   sector\n",
       "0        0      0  TSLA       94\n",
       "1        1      1   NIO      201\n",
       "2        2      2  AAPL       95\n",
       "3        3      3   PFE       10\n",
       "4        4      4  MSFT       98\n",
       "5        5      5  MRNA       02\n",
       "6        6      6    ZM       95\n",
       "7        7      7  AMZN  98109-5\n",
       "8        8      8   CRM        N\n",
       "9        9      9  NVDA       95"
      ]
     },
     "execution_count": 19,
     "metadata": {},
     "output_type": "execute_result"
    }
   ],
   "source": [
    "segments_df.head(11)"
   ]
  },
  {
   "cell_type": "code",
   "execution_count": 14,
   "metadata": {},
   "outputs": [],
   "source": [
    "segments_df=segments_df.reset_index()"
   ]
  },
  {
   "cell_type": "code",
   "execution_count": 15,
   "metadata": {},
   "outputs": [
    {
     "data": {
      "text/plain": [
       "201        1\n",
       "94         1\n",
       "02         1\n",
       "98         1\n",
       "10         1\n",
       "N          1\n",
       "98109-5    1\n",
       "95         3\n",
       "Name: sector, dtype: int64"
      ]
     },
     "execution_count": 15,
     "metadata": {},
     "output_type": "execute_result"
    }
   ],
   "source": [
    "segments_df.groupby(by='sector')\n",
    "segments_df['sector'].value_counts(sort=True, ascending=True)"
   ]
  },
  {
   "cell_type": "code",
   "execution_count": null,
   "metadata": {},
   "outputs": [],
   "source": []
  }
 ],
 "metadata": {
  "kernelspec": {
   "display_name": "Python 3",
   "language": "python",
   "name": "python3"
  },
  "language_info": {
   "codemirror_mode": {
    "name": "ipython",
    "version": 3
   },
   "file_extension": ".py",
   "mimetype": "text/x-python",
   "name": "python",
   "nbconvert_exporter": "python",
   "pygments_lexer": "ipython3",
   "version": "3.7.7"
  }
 },
 "nbformat": 4,
 "nbformat_minor": 4
}
