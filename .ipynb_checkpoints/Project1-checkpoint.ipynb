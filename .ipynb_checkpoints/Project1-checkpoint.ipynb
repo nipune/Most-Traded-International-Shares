{
 "cells": [
  {
   "cell_type": "code",
   "execution_count": 39,
   "metadata": {},
   "outputs": [],
   "source": [
    "# Initial imports\n",
    "import os # Miscellaneous operating system interfaces (os.getenv)\n",
    "import requests # requests.get\n",
    "import pandas as pd\n",
    "from dotenv import load_dotenv #Reads the key-value pair from .env file and adds them to environment variable.\n",
    "from pathlib import Path\n",
    "import json # lightweight data interchange format \n",
    "import matplotlib.pyplot as plt\n",
    "\n",
    "%matplotlib inline\n",
    "import FundamentalAnalysis as fa\n",
    "import alpaca_trade_api as tradeapi"
   ]
  },
  {
   "cell_type": "code",
   "execution_count": 40,
   "metadata": {},
   "outputs": [],
   "source": [
    "# Load .env enviroment variables\n",
    "load_dotenv()\n",
    "from pathlib import Path\n",
    "env_path = Path('C:/Users/Khemero/.env')"
   ]
  },
  {
   "cell_type": "code",
   "execution_count": 41,
   "metadata": {},
   "outputs": [],
   "source": [
    "# Set FA API key\n",
    "api_key = os.getenv(\"FA\")"
   ]
  },
  {
   "cell_type": "code",
   "execution_count": 42,
   "metadata": {},
   "outputs": [],
   "source": [
    "# Set Alpaca API key and secret\n",
    "alpaca_api_key = os.getenv(\"ALPACA_API_KEY\")\n",
    "alpaca_secret_key = os.getenv(\"ALPACA_SECRET_KEY\")\n",
    "\n",
    "# Create the Alpaca API object\n",
    "alpaca = tradeapi.REST(\n",
    "    alpaca_api_key,\n",
    "    alpaca_secret_key,\n",
    "    api_version=\"v2\")"
   ]
  },
  {
   "cell_type": "code",
   "execution_count": 43,
   "metadata": {},
   "outputs": [],
   "source": [
    "# Set the file path\n",
    "sp_data = Path(\"Resources/sp.csv\")"
   ]
  },
  {
   "cell_type": "code",
   "execution_count": 44,
   "metadata": {},
   "outputs": [],
   "source": [
    "# Read whale returns csv\n",
    "# Read the CSVs and set the `date` column as a datetime index to the DataFrame\n",
    "sp_df = pd.read_csv(sp_data, index_col=\"Date\", infer_datetime_format=True, parse_dates=True)\n",
    "sp_df.sort_index(ascending = True, inplace = True)"
   ]
  },
  {
   "cell_type": "code",
   "execution_count": 45,
   "metadata": {},
   "outputs": [
    {
     "data": {
      "text/html": [
       "<div>\n",
       "<style scoped>\n",
       "    .dataframe tbody tr th:only-of-type {\n",
       "        vertical-align: middle;\n",
       "    }\n",
       "\n",
       "    .dataframe tbody tr th {\n",
       "        vertical-align: top;\n",
       "    }\n",
       "\n",
       "    .dataframe thead th {\n",
       "        text-align: right;\n",
       "    }\n",
       "</style>\n",
       "<table border=\"1\" class=\"dataframe\">\n",
       "  <thead>\n",
       "    <tr style=\"text-align: right;\">\n",
       "      <th></th>\n",
       "      <th>Open</th>\n",
       "      <th>High</th>\n",
       "      <th>Low</th>\n",
       "      <th>Close</th>\n",
       "      <th>Volume</th>\n",
       "    </tr>\n",
       "    <tr>\n",
       "      <th>Date</th>\n",
       "      <th></th>\n",
       "      <th></th>\n",
       "      <th></th>\n",
       "      <th></th>\n",
       "      <th></th>\n",
       "    </tr>\n",
       "  </thead>\n",
       "  <tbody>\n",
       "    <tr>\n",
       "      <th>2019-01-02 16:00:00</th>\n",
       "      <td>2476.96</td>\n",
       "      <td>2519.49</td>\n",
       "      <td>2467.47</td>\n",
       "      <td>2510.03</td>\n",
       "      <td>2233765369</td>\n",
       "    </tr>\n",
       "    <tr>\n",
       "      <th>2019-01-03 16:00:00</th>\n",
       "      <td>2491.92</td>\n",
       "      <td>2493.14</td>\n",
       "      <td>2443.96</td>\n",
       "      <td>2447.89</td>\n",
       "      <td>2754752741</td>\n",
       "    </tr>\n",
       "    <tr>\n",
       "      <th>2019-01-04 16:00:00</th>\n",
       "      <td>2474.33</td>\n",
       "      <td>2538.07</td>\n",
       "      <td>2474.33</td>\n",
       "      <td>2531.94</td>\n",
       "      <td>2661709794</td>\n",
       "    </tr>\n",
       "    <tr>\n",
       "      <th>2019-01-07 16:00:00</th>\n",
       "      <td>2535.61</td>\n",
       "      <td>2566.16</td>\n",
       "      <td>2524.56</td>\n",
       "      <td>2549.69</td>\n",
       "      <td>2526552370</td>\n",
       "    </tr>\n",
       "    <tr>\n",
       "      <th>2019-01-08 16:00:00</th>\n",
       "      <td>2568.11</td>\n",
       "      <td>2579.82</td>\n",
       "      <td>2547.56</td>\n",
       "      <td>2574.41</td>\n",
       "      <td>2458286256</td>\n",
       "    </tr>\n",
       "  </tbody>\n",
       "</table>\n",
       "</div>"
      ],
      "text/plain": [
       "                        Open     High      Low    Close      Volume\n",
       "Date                                                               \n",
       "2019-01-02 16:00:00  2476.96  2519.49  2467.47  2510.03  2233765369\n",
       "2019-01-03 16:00:00  2491.92  2493.14  2443.96  2447.89  2754752741\n",
       "2019-01-04 16:00:00  2474.33  2538.07  2474.33  2531.94  2661709794\n",
       "2019-01-07 16:00:00  2535.61  2566.16  2524.56  2549.69  2526552370\n",
       "2019-01-08 16:00:00  2568.11  2579.82  2547.56  2574.41  2458286256"
      ]
     },
     "execution_count": 45,
     "metadata": {},
     "output_type": "execute_result"
    }
   ],
   "source": [
    "# Drop nulls\n",
    "sp_df = sp_df.dropna()\n",
    "sp_df.head()"
   ]
  },
  {
   "cell_type": "code",
   "execution_count": 143,
   "metadata": {},
   "outputs": [],
   "source": [
    "# Format current date as ISO format\n",
    "today = pd.Timestamp(\"2020-07-31\", tz=\"America/New_York\").isoformat() \n",
    "start = pd.Timestamp(\"2019-01-01\", tz=\"America/New_York\").isoformat() #1/1/2019?\n",
    "end = pd.Timestamp(\"2020-12-31\", tz=\"America/New_York\").isoformat() #31/12/2019?\n",
    "\n",
    "# Set the tickers\n",
    "tickers = [\"TSLA\", \"NIO\", \"AAPL\", \"PFE\", \"MSFT\", \"MRNA\", \"ZM\", \"AMZN\", \"NNDM\", \"CRM\", \"NVDA\"]\n",
    "dict = {'stock':'', 'segment':''}  \n",
    "marketcaps = {}\n",
    "segments = {}\n",
    "for stock in tickers:\n",
    "    profile = fa.profile(stock, api_key) \n",
    "    try: \n",
    "        marketcaps[stock] = int(profile.iloc[22])\n",
    "        segment = str(profile.iloc[26])[5:]\n",
    "        segments[stock] = segment[:-28]\n",
    "    except: continue\n",
    "    \n",
    "\n",
    "## Create the shares DataFrame with `tickers` as index\n",
    "#df_shares = pd.DataFrame(shares_data, index=tickers)\n",
    "\n",
    "# Set timeframe to '1D' for Alpaca API\n",
    "timeframe = \"1D\"\n",
    "\n",
    "# Get current closing prices for SPY and AGG\n",
    "df_portfolio = alpaca.get_barset(\n",
    "    tickers,\n",
    "    timeframe,\n",
    "    start = today,\n",
    "    end = today\n",
    ").df\n"
   ]
  },
  {
   "cell_type": "code",
   "execution_count": 144,
   "metadata": {},
   "outputs": [
    {
     "data": {
      "text/plain": [
       "{'TSLA': 'Consumer Cyclical',\n",
       " 'NIO': 'Consumer Cyclical',\n",
       " 'AAPL': 'Technology',\n",
       " 'PFE': 'Healthcare',\n",
       " 'MSFT': 'Technology',\n",
       " 'MRNA': 'Healthcare',\n",
       " 'ZM': 'Communication Services',\n",
       " 'AMZN': 'Consumer Cyclical',\n",
       " 'NNDM': 'Technology',\n",
       " 'CRM': 'Technology',\n",
       " 'NVDA': 'Technology'}"
      ]
     },
     "execution_count": 144,
     "metadata": {},
     "output_type": "execute_result"
    }
   ],
   "source": [
    "segments"
   ]
  },
  {
   "cell_type": "code",
   "execution_count": 145,
   "metadata": {},
   "outputs": [
    {
     "ename": "AttributeError",
     "evalue": "'dict' object has no attribute 'index'",
     "output_type": "error",
     "traceback": [
      "\u001b[1;31m---------------------------------------------------------------------------\u001b[0m",
      "\u001b[1;31mAttributeError\u001b[0m                            Traceback (most recent call last)",
      "\u001b[1;32m<ipython-input-145-30e25407fa18>\u001b[0m in \u001b[0;36m<module>\u001b[1;34m\u001b[0m\n\u001b[1;32m----> 1\u001b[1;33m \u001b[0msegments\u001b[0m\u001b[1;33m.\u001b[0m\u001b[0mindex\u001b[0m\u001b[1;33m\u001b[0m\u001b[1;33m\u001b[0m\u001b[0m\n\u001b[0m",
      "\u001b[1;31mAttributeError\u001b[0m: 'dict' object has no attribute 'index'"
     ]
    }
   ],
   "source": [
    "segments."
   ]
  },
  {
   "cell_type": "code",
   "execution_count": 128,
   "metadata": {},
   "outputs": [
    {
     "data": {
      "text/plain": [
       "{'TSLA': '0    Consumer Cyclical\\nName: sector, dtype: object'}"
      ]
     },
     "execution_count": 128,
     "metadata": {},
     "output_type": "execute_result"
    }
   ],
   "source": [
    "segments"
   ]
  },
  {
   "cell_type": "code",
   "execution_count": 126,
   "metadata": {},
   "outputs": [
    {
     "data": {
      "text/plain": [
       "{'TSLA': 'Consumer Cyclical\\nName: sector, dtype: object'}"
      ]
     },
     "execution_count": 126,
     "metadata": {},
     "output_type": "execute_result"
    }
   ],
   "source": [
    "segments"
   ]
  },
  {
   "cell_type": "code",
   "execution_count": 146,
   "metadata": {},
   "outputs": [],
   "source": [
    "marketcaps = pd.DataFrame(marketcaps.items(), columns=['stock', 'marketcap'])\n",
    "segments = pd.DataFrame(segments.items(), columns=['stock', 'marketcap'])\n"
   ]
  },
  {
   "cell_type": "code",
   "execution_count": 107,
   "metadata": {},
   "outputs": [
    {
     "data": {
      "text/html": [
       "<div>\n",
       "<style scoped>\n",
       "    .dataframe tbody tr th:only-of-type {\n",
       "        vertical-align: middle;\n",
       "    }\n",
       "\n",
       "    .dataframe tbody tr th {\n",
       "        vertical-align: top;\n",
       "    }\n",
       "\n",
       "    .dataframe thead th {\n",
       "        text-align: right;\n",
       "    }\n",
       "</style>\n",
       "<table border=\"1\" class=\"dataframe\">\n",
       "  <thead>\n",
       "    <tr style=\"text-align: right;\">\n",
       "      <th></th>\n",
       "      <th>stock</th>\n",
       "      <th>marketcap</th>\n",
       "    </tr>\n",
       "  </thead>\n",
       "  <tbody>\n",
       "    <tr>\n",
       "      <th>0</th>\n",
       "      <td>TSLA</td>\n",
       "      <td>658791200000</td>\n",
       "    </tr>\n",
       "    <tr>\n",
       "      <th>1</th>\n",
       "      <td>NIO</td>\n",
       "      <td>72832279000</td>\n",
       "    </tr>\n",
       "    <tr>\n",
       "      <th>2</th>\n",
       "      <td>AAPL</td>\n",
       "      <td>2153362880000</td>\n",
       "    </tr>\n",
       "    <tr>\n",
       "      <th>3</th>\n",
       "      <td>PFE</td>\n",
       "      <td>209440506000</td>\n",
       "    </tr>\n",
       "    <tr>\n",
       "      <th>4</th>\n",
       "      <td>MSFT</td>\n",
       "      <td>1652649750000</td>\n",
       "    </tr>\n",
       "  </tbody>\n",
       "</table>\n",
       "</div>"
      ],
      "text/plain": [
       "  stock      marketcap\n",
       "0  TSLA   658791200000\n",
       "1   NIO    72832279000\n",
       "2  AAPL  2153362880000\n",
       "3   PFE   209440506000\n",
       "4  MSFT  1652649750000"
      ]
     },
     "execution_count": 107,
     "metadata": {},
     "output_type": "execute_result"
    }
   ],
   "source": [
    "marketcaps.head()"
   ]
  },
  {
   "cell_type": "code",
   "execution_count": 147,
   "metadata": {},
   "outputs": [
    {
     "data": {
      "text/html": [
       "<div>\n",
       "<style scoped>\n",
       "    .dataframe tbody tr th:only-of-type {\n",
       "        vertical-align: middle;\n",
       "    }\n",
       "\n",
       "    .dataframe tbody tr th {\n",
       "        vertical-align: top;\n",
       "    }\n",
       "\n",
       "    .dataframe thead th {\n",
       "        text-align: right;\n",
       "    }\n",
       "</style>\n",
       "<table border=\"1\" class=\"dataframe\">\n",
       "  <thead>\n",
       "    <tr style=\"text-align: right;\">\n",
       "      <th></th>\n",
       "      <th>stock</th>\n",
       "      <th>marketcap</th>\n",
       "    </tr>\n",
       "  </thead>\n",
       "  <tbody>\n",
       "    <tr>\n",
       "      <th>0</th>\n",
       "      <td>TSLA</td>\n",
       "      <td>Consumer Cyclical</td>\n",
       "    </tr>\n",
       "    <tr>\n",
       "      <th>1</th>\n",
       "      <td>NIO</td>\n",
       "      <td>Consumer Cyclical</td>\n",
       "    </tr>\n",
       "    <tr>\n",
       "      <th>2</th>\n",
       "      <td>AAPL</td>\n",
       "      <td>Technology</td>\n",
       "    </tr>\n",
       "    <tr>\n",
       "      <th>3</th>\n",
       "      <td>PFE</td>\n",
       "      <td>Healthcare</td>\n",
       "    </tr>\n",
       "    <tr>\n",
       "      <th>4</th>\n",
       "      <td>MSFT</td>\n",
       "      <td>Technology</td>\n",
       "    </tr>\n",
       "    <tr>\n",
       "      <th>5</th>\n",
       "      <td>MRNA</td>\n",
       "      <td>Healthcare</td>\n",
       "    </tr>\n",
       "    <tr>\n",
       "      <th>6</th>\n",
       "      <td>ZM</td>\n",
       "      <td>Communication Services</td>\n",
       "    </tr>\n",
       "    <tr>\n",
       "      <th>7</th>\n",
       "      <td>AMZN</td>\n",
       "      <td>Consumer Cyclical</td>\n",
       "    </tr>\n",
       "    <tr>\n",
       "      <th>8</th>\n",
       "      <td>NNDM</td>\n",
       "      <td>Technology</td>\n",
       "    </tr>\n",
       "    <tr>\n",
       "      <th>9</th>\n",
       "      <td>CRM</td>\n",
       "      <td>Technology</td>\n",
       "    </tr>\n",
       "    <tr>\n",
       "      <th>10</th>\n",
       "      <td>NVDA</td>\n",
       "      <td>Technology</td>\n",
       "    </tr>\n",
       "  </tbody>\n",
       "</table>\n",
       "</div>"
      ],
      "text/plain": [
       "   stock               marketcap\n",
       "0   TSLA       Consumer Cyclical\n",
       "1    NIO       Consumer Cyclical\n",
       "2   AAPL              Technology\n",
       "3    PFE              Healthcare\n",
       "4   MSFT              Technology\n",
       "5   MRNA              Healthcare\n",
       "6     ZM  Communication Services\n",
       "7   AMZN       Consumer Cyclical\n",
       "8   NNDM              Technology\n",
       "9    CRM              Technology\n",
       "10  NVDA              Technology"
      ]
     },
     "execution_count": 147,
     "metadata": {},
     "output_type": "execute_result"
    }
   ],
   "source": [
    "segments"
   ]
  },
  {
   "cell_type": "code",
   "execution_count": 82,
   "metadata": {},
   "outputs": [
    {
     "data": {
      "text/plain": [
       "0    658791200000\n",
       "Name: mktCap, dtype: object"
      ]
     },
     "execution_count": 82,
     "metadata": {},
     "output_type": "execute_result"
    }
   ],
   "source": [
    "profile PFR"
   ]
  },
  {
   "cell_type": "code",
   "execution_count": 91,
   "metadata": {},
   "outputs": [
    {
     "data": {
      "text/plain": [
       "72832279000"
      ]
     },
     "execution_count": 91,
     "metadata": {},
     "output_type": "execute_result"
    }
   ],
   "source": [
    "#data cleaning\n",
    "int(profile.iloc[22])"
   ]
  },
  {
   "cell_type": "code",
   "execution_count": 101,
   "metadata": {},
   "outputs": [],
   "source": [
    "profile2 = fa.profile(\"PFE\", api_key) "
   ]
  },
  {
   "cell_type": "code",
   "execution_count": 102,
   "metadata": {},
   "outputs": [
    {
     "data": {
      "text/html": [
       "<div>\n",
       "<style scoped>\n",
       "    .dataframe tbody tr th:only-of-type {\n",
       "        vertical-align: middle;\n",
       "    }\n",
       "\n",
       "    .dataframe tbody tr th {\n",
       "        vertical-align: top;\n",
       "    }\n",
       "\n",
       "    .dataframe thead th {\n",
       "        text-align: right;\n",
       "    }\n",
       "</style>\n",
       "<table border=\"1\" class=\"dataframe\">\n",
       "  <thead>\n",
       "    <tr style=\"text-align: right;\">\n",
       "      <th></th>\n",
       "      <th>0</th>\n",
       "    </tr>\n",
       "  </thead>\n",
       "  <tbody>\n",
       "    <tr>\n",
       "      <th>address</th>\n",
       "      <td>235 E 42ND ST</td>\n",
       "    </tr>\n",
       "    <tr>\n",
       "      <th>beta</th>\n",
       "      <td>0.64294</td>\n",
       "    </tr>\n",
       "    <tr>\n",
       "      <th>ceo</th>\n",
       "      <td>Dr. Albert Bourla</td>\n",
       "    </tr>\n",
       "    <tr>\n",
       "      <th>changes</th>\n",
       "      <td>-0.35</td>\n",
       "    </tr>\n",
       "    <tr>\n",
       "      <th>cik</th>\n",
       "      <td>0000078003</td>\n",
       "    </tr>\n",
       "    <tr>\n",
       "      <th>city</th>\n",
       "      <td>New York City</td>\n",
       "    </tr>\n",
       "    <tr>\n",
       "      <th>companyName</th>\n",
       "      <td>Pfizer Inc</td>\n",
       "    </tr>\n",
       "    <tr>\n",
       "      <th>country</th>\n",
       "      <td>US</td>\n",
       "    </tr>\n",
       "    <tr>\n",
       "      <th>currency</th>\n",
       "      <td>USD</td>\n",
       "    </tr>\n",
       "    <tr>\n",
       "      <th>cusip</th>\n",
       "      <td>717081103</td>\n",
       "    </tr>\n",
       "    <tr>\n",
       "      <th>dcf</th>\n",
       "      <td>37.31</td>\n",
       "    </tr>\n",
       "    <tr>\n",
       "      <th>dcfDiff</th>\n",
       "      <td>-35.04</td>\n",
       "    </tr>\n",
       "    <tr>\n",
       "      <th>defaultImage</th>\n",
       "      <td>False</td>\n",
       "    </tr>\n",
       "    <tr>\n",
       "      <th>description</th>\n",
       "      <td>Pfizer Inc. develops, manufactures, and sells ...</td>\n",
       "    </tr>\n",
       "    <tr>\n",
       "      <th>exchange</th>\n",
       "      <td>New York Stock Exchange</td>\n",
       "    </tr>\n",
       "    <tr>\n",
       "      <th>exchangeShortName</th>\n",
       "      <td>NYSE</td>\n",
       "    </tr>\n",
       "    <tr>\n",
       "      <th>fullTimeEmployees</th>\n",
       "      <td>88300</td>\n",
       "    </tr>\n",
       "    <tr>\n",
       "      <th>image</th>\n",
       "      <td>https://financialmodelingprep.com/image-stock/...</td>\n",
       "    </tr>\n",
       "    <tr>\n",
       "      <th>industry</th>\n",
       "      <td>Drug Manufacturers General</td>\n",
       "    </tr>\n",
       "    <tr>\n",
       "      <th>ipoDate</th>\n",
       "      <td>1944-01-17</td>\n",
       "    </tr>\n",
       "    <tr>\n",
       "      <th>isin</th>\n",
       "      <td>US7170811035</td>\n",
       "    </tr>\n",
       "    <tr>\n",
       "      <th>lastDiv</th>\n",
       "      <td>1.44212</td>\n",
       "    </tr>\n",
       "    <tr>\n",
       "      <th>mktCap</th>\n",
       "      <td>209440506000</td>\n",
       "    </tr>\n",
       "    <tr>\n",
       "      <th>phone</th>\n",
       "      <td>12125732323</td>\n",
       "    </tr>\n",
       "    <tr>\n",
       "      <th>price</th>\n",
       "      <td>37.68</td>\n",
       "    </tr>\n",
       "    <tr>\n",
       "      <th>range</th>\n",
       "      <td>26.451612-43.08</td>\n",
       "    </tr>\n",
       "    <tr>\n",
       "      <th>sector</th>\n",
       "      <td>Healthcare</td>\n",
       "    </tr>\n",
       "    <tr>\n",
       "      <th>state</th>\n",
       "      <td>NEW YORK</td>\n",
       "    </tr>\n",
       "    <tr>\n",
       "      <th>symbol</th>\n",
       "      <td>PFE</td>\n",
       "    </tr>\n",
       "    <tr>\n",
       "      <th>volAvg</th>\n",
       "      <td>42233695</td>\n",
       "    </tr>\n",
       "    <tr>\n",
       "      <th>website</th>\n",
       "      <td>https://www.pfizer.com/</td>\n",
       "    </tr>\n",
       "    <tr>\n",
       "      <th>zip</th>\n",
       "      <td>10017</td>\n",
       "    </tr>\n",
       "  </tbody>\n",
       "</table>\n",
       "</div>"
      ],
      "text/plain": [
       "                                                                   0\n",
       "address                                                235 E 42ND ST\n",
       "beta                                                         0.64294\n",
       "ceo                                                Dr. Albert Bourla\n",
       "changes                                                        -0.35\n",
       "cik                                                       0000078003\n",
       "city                                                   New York City\n",
       "companyName                                               Pfizer Inc\n",
       "country                                                           US\n",
       "currency                                                         USD\n",
       "cusip                                                      717081103\n",
       "dcf                                                            37.31\n",
       "dcfDiff                                                       -35.04\n",
       "defaultImage                                                   False\n",
       "description        Pfizer Inc. develops, manufactures, and sells ...\n",
       "exchange                                     New York Stock Exchange\n",
       "exchangeShortName                                               NYSE\n",
       "fullTimeEmployees                                              88300\n",
       "image              https://financialmodelingprep.com/image-stock/...\n",
       "industry                                  Drug Manufacturers General\n",
       "ipoDate                                                   1944-01-17\n",
       "isin                                                    US7170811035\n",
       "lastDiv                                                      1.44212\n",
       "mktCap                                                  209440506000\n",
       "phone                                                    12125732323\n",
       "price                                                          37.68\n",
       "range                                                26.451612-43.08\n",
       "sector                                                    Healthcare\n",
       "state                                                       NEW YORK\n",
       "symbol                                                           PFE\n",
       "volAvg                                                      42233695\n",
       "website                                      https://www.pfizer.com/\n",
       "zip                                                            10017"
      ]
     },
     "execution_count": 102,
     "metadata": {},
     "output_type": "execute_result"
    }
   ],
   "source": [
    "26"
   ]
  },
  {
   "cell_type": "code",
   "execution_count": 60,
   "metadata": {},
   "outputs": [
    {
     "data": {
      "text/plain": [
       "address                                            2788 San Tomas Expy\n",
       "beta                                                           1.53923\n",
       "ceo                                                 Mr. Jen-Hsun Huang\n",
       "changes                                                          -2.77\n",
       "cik                                                         0001045810\n",
       "city                                                       Santa Clara\n",
       "companyName                                                NVIDIA Corp\n",
       "country                                                             US\n",
       "currency                                                           USD\n",
       "cusip                                                        67066G104\n",
       "dcf                                                            558.621\n",
       "dcfDiff                                                         -95.03\n",
       "defaultImage                                                      True\n",
       "description          NVIDIA Corporation operates as a visual comput...\n",
       "exchange                                          Nasdaq Global Select\n",
       "exchangeShortName                                               NASDAQ\n",
       "fullTimeEmployees                                                13775\n",
       "image                https://financialmodelingprep.com/image-stock/...\n",
       "industry                                                Semiconductors\n",
       "ipoDate                                                     1999-01-22\n",
       "isin                                                      US67066G1040\n",
       "lastDiv                                                           0.64\n",
       "mktCap                                                    328614707000\n",
       "phone                                                      14084862000\n",
       "price                                                           530.88\n",
       "range                                                    180.68-589.07\n",
       "sector                                                      Technology\n",
       "state                                                       CALIFORNIA\n",
       "symbol                                                            NVDA\n",
       "volAvg                                                         9666525\n",
       "website                                        https://www.nvidia.com/\n",
       "zip                                                              95051\n",
       "Name: 0, dtype: object"
      ]
     },
     "execution_count": 60,
     "metadata": {},
     "output_type": "execute_result"
    }
   ],
   "source": [
    "profile"
   ]
  },
  {
   "cell_type": "code",
   "execution_count": 64,
   "metadata": {},
   "outputs": [
    {
     "data": {
      "text/plain": [
       "Index(['address', 'beta', 'ceo', 'changes', 'cik', 'city', 'companyName',\n",
       "       'country', 'currency', 'cusip', 'dcf', 'dcfDiff', 'defaultImage',\n",
       "       'description', 'exchange', 'exchangeShortName', 'fullTimeEmployees',\n",
       "       'image', 'industry', 'ipoDate', 'isin', 'lastDiv', 'mktCap', 'phone',\n",
       "       'price', 'range', 'sector', 'state', 'symbol', 'volAvg', 'website',\n",
       "       'zip'],\n",
       "      dtype='object')"
      ]
     },
     "execution_count": 64,
     "metadata": {},
     "output_type": "execute_result"
    }
   ],
   "source": [
    "profile.index"
   ]
  },
  {
   "cell_type": "code",
   "execution_count": 69,
   "metadata": {},
   "outputs": [],
   "source": [
    "mktcap = profile.iloc[22]"
   ]
  },
  {
   "cell_type": "code",
   "execution_count": null,
   "metadata": {},
   "outputs": [],
   "source": [
    "# # Collect general company information\n",
    "# profile = fa.profile(ticker, api_key)\n",
    "\n",
    "# # Collect recent company quotes\n",
    "# quotes = fa.quote(ticker, api_key)\n",
    "\n",
    "# # Collect market cap and enterprise value\n",
    "# entreprise_value = fa.enterprise(ticker, api_key)\n",
    "\n",
    "# # Show recommendations of Analysts\n",
    "# ratings = fa.rating(ticker, api_key)\n",
    "\n",
    "# # Obtain DCFs over time\n",
    "# dcf_annually = fa.discounted_cash_flow(ticker, api_key, period=\"annual\")\n",
    "# dcf_quarterly = fa.discounted_cash_flow(ticker, api_key, period=\"quarter\")\n",
    "\n",
    "# # Collect the Balance Sheet statements\n",
    "# balance_sheet_annually = fa.balance_sheet_statement(ticker, api_key, period=\"annual\")\n",
    "# balance_sheet_quarterly = fa.balance_sheet_statement(ticker, api_key, period=\"quarter\")\n",
    "\n",
    "# # Collect the Income Statements\n",
    "# income_statement_annually = fa.income_statement(ticker, api_key, period=\"annual\")\n",
    "# income_statement_quarterly = fa.income_statement(ticker, api_key, period=\"quarter\")\n",
    "\n",
    "# # Collect the Cash Flow Statements\n",
    "# cash_flow_statement_annually = fa.cash_flow_statement(ticker, api_key, period=\"annual\")\n",
    "# cash_flow_statement_quarterly = fa.cash_flow_statement(ticker, api_key, period=\"quarter\")\n",
    "\n",
    "# # Show Key Metrics\n",
    "# key_metrics_annually = fa.key_metrics(ticker, api_key, period=\"annual\")\n",
    "# key_metrics_quarterly = fa.key_metrics(ticker, api_key, period=\"quarter\")\n",
    "\n",
    "# # Show a large set of in-depth ratios\n",
    "# financial_ratios_annually = fa.financial_ratios(ticker, api_key, period=\"annual\")\n",
    "# financial_ratios_quarterly = fa.financial_ratios(ticker, api_key, period=\"quarter\")\n",
    "\n",
    "# # Show the growth of the company\n",
    "# growth_annually = fa.financial_statement_growth(ticker, api_key, period=\"annual\")\n",
    "# growth_quarterly = fa.financial_statement_growth(ticker, api_key, period=\"quarter\")\n",
    "\n",
    "# # Download general stock data\n",
    "# stock_data = fa.stock_data(ticker, period=\"ytd\", interval=\"1d\")\n",
    "\n",
    "# # Download detailed stock data\n",
    "# stock_data_detailed = fa.stock_data_detailed(ticker, api_key, begin=\"2000-01-01\", end=\"2020-01-01\")\n"
   ]
  }
 ],
 "metadata": {
  "kernelspec": {
   "display_name": "Python 3",
   "language": "python",
   "name": "python3"
  },
  "language_info": {
   "codemirror_mode": {
    "name": "ipython",
    "version": 3
   },
   "file_extension": ".py",
   "mimetype": "text/x-python",
   "name": "python",
   "nbconvert_exporter": "python",
   "pygments_lexer": "ipython3",
   "version": "3.7.9"
  }
 },
 "nbformat": 4,
 "nbformat_minor": 4
}
