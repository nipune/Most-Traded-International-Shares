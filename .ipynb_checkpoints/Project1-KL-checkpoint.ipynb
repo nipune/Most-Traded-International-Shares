{
 "cells": [
  {
   "cell_type": "code",
   "execution_count": null,
   "metadata": {},
   "outputs": [],
   "source": [
    "# Initial imports\n",
    "import os # Miscellaneous operating system interfaces (os.getenv)\n",
    "import requests # requests.get\n",
    "import pandas as pd\n",
    "from dotenv import load_dotenv #Reads the key-value pair from .env file and adds them to environment variable.\n",
    "from pathlib import Path\n",
    "import json # lightweight data interchange format \n",
    "import matplotlib.pyplot as plt\n",
    "\n",
    "%matplotlib inline\n",
    "import FundamentalAnalysis as fa\n",
    "import alpaca_trade_api as tradeapi"
   ]
  },
  {
   "cell_type": "code",
   "execution_count": null,
   "metadata": {},
   "outputs": [],
   "source": [
    "# Load .env enviroment variables\n",
    "load_dotenv()\n",
    "from pathlib import Path\n",
    "env_path = Path('C:/Users/Khemero/.env')"
   ]
  },
  {
   "cell_type": "code",
   "execution_count": null,
   "metadata": {},
   "outputs": [],
   "source": [
    "# Set FA API key\n",
    "api_key = os.getenv(\"FA\")"
   ]
  },
  {
   "cell_type": "code",
   "execution_count": null,
   "metadata": {},
   "outputs": [],
   "source": [
    "# Set Alpaca API key and secret\n",
    "alpaca_api_key = os.getenv(\"ALPACA_API_KEY\")\n",
    "alpaca_secret_key = os.getenv(\"ALPACA_SECRET_KEY\")\n",
    "\n",
    "# Create the Alpaca API object\n",
    "alpaca = tradeapi.REST(\n",
    "    alpaca_api_key,\n",
    "    alpaca_secret_key,\n",
    "    api_version=\"v2\")"
   ]
  },
  {
   "cell_type": "code",
   "execution_count": null,
   "metadata": {},
   "outputs": [],
   "source": [
    "# Set the file path\n",
    "sp_data = Path(\"Resources/sp.csv\")\n",
    "sp_symbols_data = Path(\"Resources/sp500_symbols.csv\")\n",
    "sp_ticker_data = Path(\"Resources/sp500_ticker.csv\")"
   ]
  },
  {
   "cell_type": "code",
   "execution_count": null,
   "metadata": {},
   "outputs": [],
   "source": [
    "# Read whale returns csv\n",
    "# Read the CSVs and set the `date` column as a datetime index to the DataFrame\n",
    "sp_df = pd.read_csv(sp_data, index_col=\"Date\", infer_datetime_format=True, parse_dates=True)\n",
    "sp_df.sort_index(ascending = True, inplace = True)\n",
    "\n",
    "sp_symbols = pd.read_csv(sp_symbols_data, index_col=\"Symbol\", infer_datetime_format=True, parse_dates=True)\n",
    "sp_symbols.sort_index(ascending = True, inplace = True)\n",
    "\n",
    "sp_ticker = pd.read_csv(sp_ticker_data, index_col=\"Symbol\", infer_datetime_format=True, parse_dates=True)\n",
    "sp_ticker.sort_index(ascending = True, inplace = True)"
   ]
  },
  {
   "cell_type": "code",
   "execution_count": null,
   "metadata": {},
   "outputs": [],
   "source": [
    "# Drop nulls\n",
    "sp_df = sp_df.dropna()"
   ]
  },
  {
   "cell_type": "code",
   "execution_count": null,
   "metadata": {},
   "outputs": [],
   "source": [
    "# master_list = []\n",
    "# for i in target_items:\n",
    "#         data_dict = {}\n",
    "#         data_dict['marketplace'] = 'ebay'\n",
    "#         data_dict['date_retrieved'] = date.today()\n",
    "#         data_dict['link'] = i.get('a',{'href'})\n",
    "#         master_list.append(data_dict)\n"
   ]
  },
  {
   "cell_type": "code",
   "execution_count": null,
   "metadata": {},
   "outputs": [],
   "source": [
    "# Format current date as ISO format\n",
    "today = pd.Timestamp(\"2020-07-31\", tz=\"America/New_York\").isoformat() \n",
    "start = pd.Timestamp(\"2019-01-01\", tz=\"America/New_York\").isoformat() \n",
    "end = pd.Timestamp(\"2020-12-31\", tz=\"America/New_York\").isoformat() # last year\n",
    "\n",
    "# Set the tickers\n",
    "tickers = [\"TSLA\", \"NIO\", \"AAPL\", \"PFE\", \"MSFT\", \"MRNA\", \"ZM\", \"AMZN\", \"NNDM\", \"CRM\", \"NVDA\"]\n",
    "dict = {'stock':'', 'segment':''}  \n",
    "marketcaps = {}\n",
    "segments = {}\n",
    "for stock in tickers:\n",
    "    profile = fa.profile(stock, api_key) \n",
    "    try: \n",
    "        marketcaps[stock] = int(profile.iloc[22])\n",
    "        segment = str(profile.iloc[26])[5:]\n",
    "        segments[stock] = segment[:-28]\n",
    "    except: continue\n",
    "    \n",
    "\n",
    "## Create the shares DataFrame with `tickers` as index\n",
    "#df_shares = pd.DataFrame(shares_data, index=tickers)\n",
    "\n",
    "# Set timeframe to '1D' for Alpaca API\n",
    "timeframe = \"1D\"\n",
    "\n",
    "# Get current closing prices for SPY and AGG\n",
    "df_portfolio = alpaca.get_barset(\n",
    "    tickers,\n",
    "    timeframe,\n",
    "    start = today,\n",
    "    end = today\n",
    ").df"
   ]
  },
  {
   "cell_type": "code",
   "execution_count": null,
   "metadata": {},
   "outputs": [],
   "source": [
    "# # Format current date as ISO format\n",
    "# today = pd.Timestamp(\"2020-07-31\", tz=\"America/New_York\").isoformat() \n",
    "# start = pd.Timestamp(\"2019-01-01\", tz=\"America/New_York\").isoformat() #1/1/2019?\n",
    "# end = pd.Timestamp(\"2020-12-31\", tz=\"America/New_York\").isoformat() #31/12/2019?\n",
    "\n",
    "# # Set the tickers\n",
    "# tickers = [\"TSLA\", \"NIO\", \"AAPL\", \"PFE\", \"MSFT\", \"MRNA\", \"ZM\", \"AMZN\", \"NNDM\", \"CRM\", \"NVDA\"]\n",
    "# dict = {'stock':'', 'segment':''}  \n",
    "# marketcaps = {}\n",
    "# segments = {}\n",
    "# for stock in tickers:\n",
    "#     profile = fa.profile(stock, api_key) \n",
    "#     try: \n",
    "#         marketcaps[stock] = int(profile.iloc[22])\n",
    "#         segment = str(profile.iloc[26])[5:]\n",
    "#         segments[stock] = segment[:-28]\n",
    "#     except: continue\n",
    "    \n",
    "\n",
    "# ## Create the shares DataFrame with `tickers` as index\n",
    "# #df_shares = pd.DataFrame(shares_data, index=tickers)\n",
    "\n",
    "# # Set timeframe to '1D' for Alpaca API\n",
    "# timeframe = \"1D\"\n",
    "\n",
    "# # Get current closing prices for SPY and AGG\n",
    "# df_portfolio = alpaca.get_barset(\n",
    "#     tickers,\n",
    "#     timeframe,\n",
    "#     start = today,\n",
    "#     end = today\n",
    "# ).df"
   ]
  },
  {
   "cell_type": "code",
   "execution_count": null,
   "metadata": {},
   "outputs": [],
   "source": [
    "marketcaps_df = pd.DataFrame(marketcaps.items(), columns=['stock', 'marketcap'])\n",
    "segments_df = pd.DataFrame(segments.items(), columns=['stock', 'marketcap']).rename(columns={\n",
    "    \"marketcap\":\"sector\"\n",
    "})"
   ]
  },
  {
   "cell_type": "code",
   "execution_count": null,
   "metadata": {},
   "outputs": [],
   "source": [
    "marketcaps_df.head(11)"
   ]
  },
  {
   "cell_type": "code",
   "execution_count": null,
   "metadata": {},
   "outputs": [],
   "source": [
    "segments_df.head(11)"
   ]
  },
  {
   "cell_type": "code",
   "execution_count": null,
   "metadata": {},
   "outputs": [],
   "source": [
    "segments = segments_df.drop(columns=[\n",
    "    \"stock\", \n",
    "])"
   ]
  },
  {
   "cell_type": "code",
   "execution_count": null,
   "metadata": {},
   "outputs": [],
   "source": [
    "joined_df = pd.concat([marketcaps_df, segments], axis=\"columns\", join=\"inner\")\n",
    "joined_df.head(12)\n"
   ]
  },
  {
   "cell_type": "code",
   "execution_count": null,
   "metadata": {},
   "outputs": [],
   "source": [
    "joined_symbol_df = pd.concat([sp_symbols, sp_ticker], axis=\"columns\", join=\"inner\")\n",
    "joined_symbol_df.head(500)"
   ]
  },
  {
   "cell_type": "code",
   "execution_count": null,
   "metadata": {},
   "outputs": [],
   "source": [
    "stock_data = fa.stock_data(\"TSLA\", period=\"ytd\", interval=\"1d\")"
   ]
  },
  {
   "cell_type": "code",
   "execution_count": null,
   "metadata": {},
   "outputs": [],
   "source": [
    "sp_df.head()"
   ]
  },
  {
   "cell_type": "code",
   "execution_count": null,
   "metadata": {},
   "outputs": [],
   "source": [
    "stock_data"
   ]
  },
  {
   "cell_type": "code",
   "execution_count": null,
   "metadata": {},
   "outputs": [],
   "source": [
    "growth_annually = fa.financial_statement_growth(\"TSLA\", api_key, period=\"annual\")"
   ]
  },
  {
   "cell_type": "code",
   "execution_count": null,
   "metadata": {},
   "outputs": [],
   "source": [
    "growth_annually"
   ]
  },
  {
   "cell_type": "code",
   "execution_count": null,
   "metadata": {},
   "outputs": [],
   "source": [
    "# # Collect general company information\n",
    "# profile = fa.profile(ticker, api_key)\n",
    "\n",
    "# # Collect recent company quotes\n",
    "# quotes = fa.quote(ticker, api_key)\n",
    "\n",
    "# # Collect market cap and enterprise value\n",
    "# entreprise_value = fa.enterprise(ticker, api_key)\n",
    "\n",
    "# # Show recommendations of Analysts\n",
    "# ratings = fa.rating(ticker, api_key)\n",
    "\n",
    "# # Obtain DCFs over time\n",
    "# dcf_annually = fa.discounted_cash_flow(ticker, api_key, period=\"annual\")\n",
    "# dcf_quarterly = fa.discounted_cash_flow(ticker, api_key, period=\"quarter\")\n",
    "\n",
    "# # Collect the Balance Sheet statements\n",
    "# balance_sheet_annually = fa.balance_sheet_statement(ticker, api_key, period=\"annual\")\n",
    "# balance_sheet_quarterly = fa.balance_sheet_statement(ticker, api_key, period=\"quarter\")\n",
    "\n",
    "# # Collect the Income Statements\n",
    "# income_statement_annually = fa.income_statement(ticker, api_key, period=\"annual\")\n",
    "# income_statement_quarterly = fa.income_statement(ticker, api_key, period=\"quarter\")\n",
    "\n",
    "# # Collect the Cash Flow Statements\n",
    "# cash_flow_statement_annually = fa.cash_flow_statement(ticker, api_key, period=\"annual\")\n",
    "# cash_flow_statement_quarterly = fa.cash_flow_statement(ticker, api_key, period=\"quarter\")\n",
    "\n",
    "# # Show Key Metrics\n",
    "# key_metrics_annually = fa.key_metrics(ticker, api_key, period=\"annual\")\n",
    "# key_metrics_quarterly = fa.key_metrics(ticker, api_key, period=\"quarter\")\n",
    "\n",
    "# # Show a large set of in-depth ratios\n",
    "# financial_ratios_annually = fa.financial_ratios(ticker, api_key, period=\"annual\")\n",
    "# financial_ratios_quarterly = fa.financial_ratios(ticker, api_key, period=\"quarter\")\n",
    "\n",
    "# # Show the growth of the company\n",
    "# growth_annually = fa.financial_statement_growth(ticker, api_key, period=\"annual\")\n",
    "# growth_quarterly = fa.financial_statement_growth(ticker, api_key, period=\"quarter\")\n",
    "\n",
    "# # Download general stock data\n",
    "# stock_data = fa.stock_data(ticker, period=\"ytd\", interval=\"1d\")\n",
    "\n",
    "# # Download detailed stock data\n",
    "# stock_data_detailed = fa.stock_data_detailed(ticker, api_key, begin=\"2000-01-01\", end=\"2020-01-01\")\n"
   ]
  }
 ],
 "metadata": {
  "kernelspec": {
   "display_name": "Python [conda env:pyvizenv] *",
   "language": "python",
   "name": "conda-env-pyvizenv-py"
  },
  "language_info": {
   "codemirror_mode": {
    "name": "ipython",
    "version": 3
   },
   "file_extension": ".py",
   "mimetype": "text/x-python",
   "name": "python",
   "nbconvert_exporter": "python",
   "pygments_lexer": "ipython3",
   "version": "3.7.9"
  }
 },
 "nbformat": 4,
 "nbformat_minor": 4
}
